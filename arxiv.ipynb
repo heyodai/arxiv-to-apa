{
 "cells": [
  {
   "cell_type": "code",
   "execution_count": 8,
   "metadata": {},
   "outputs": [],
   "source": [
    "import requests\n",
    "from bs4 import BeautifulSoup"
   ]
  },
  {
   "cell_type": "code",
   "execution_count": 9,
   "metadata": {},
   "outputs": [
    {
     "name": "stdout",
     "output_type": "stream",
     "text": [
      "14\n"
     ]
    }
   ],
   "source": [
    "urls = [\n",
    "    'https://arxiv.org/abs/1706.03762',\n",
    "    'https://arxiv.org/abs/2010.11929',\n",
    "    'https://arxiv.org/abs/2003.08934',\n",
    "    'https://arxiv.org/abs/1904.08755',\n",
    "    'https://arxiv.org/abs/2311.18835',\n",
    "    'https://arxiv.org/abs/2208.08900',\n",
    "    'https://arxiv.org/abs/2208.08900',\n",
    "    'https://arxiv.org/abs/2105.13808',\n",
    "    'https://arxiv.org/abs/1906.05372',\n",
    "    'https://arxiv.org/abs/2208.08900',\n",
    "    'https://arxiv.org/abs/2104.08732',\n",
    "    'https://arxiv.org/abs/2007.13106',\n",
    "    'https://arxiv.org/abs/1911.12257',\n",
    "    'https://arxiv.org/abs/1803.07892',\n",
    "]\n",
    "print(len(urls))"
   ]
  },
  {
   "cell_type": "code",
   "execution_count": 10,
   "metadata": {},
   "outputs": [],
   "source": [
    "def fetch_arxiv_data(url):\n",
    "    response = requests.get(url)\n",
    "    soup = BeautifulSoup(response.content, 'html.parser')\n",
    "    return soup\n",
    "\n",
    "def extract_info(soup):\n",
    "    title = soup.find('h1', class_='title').text.replace(\"Title:\", \"\").strip()\n",
    "    authors = soup.find('div', class_='authors').text.replace(\"Authors:\", \"\").strip()\n",
    "    date = soup.find('div', class_='dateline').text.strip()\n",
    "    return title, authors, date\n",
    "\n",
    "def format_apa(title, authors, date, url):\n",
    "    # Truncate authors to 3\n",
    "    authors = authors if len(authors.split(\",\")) <= 3 else authors.split(\",\")[0] + \" et al.\"\n",
    "    return f\"{authors} ({date}). {title}. arXiv. {url}\"\n",
    "\n",
    "def generate_apa_citation(url):\n",
    "    soup = fetch_arxiv_data(url)\n",
    "    title, authors, date = extract_info(soup)\n",
    "    citation = format_apa(title, authors, date, url)\n",
    "    return citation"
   ]
  },
  {
   "cell_type": "code",
   "execution_count": 11,
   "metadata": {},
   "outputs": [],
   "source": [
    "citations = []\n",
    "for url in urls:\n",
    "    citations.append(generate_apa_citation(url))\n"
   ]
  },
  {
   "cell_type": "code",
   "execution_count": 12,
   "metadata": {},
   "outputs": [],
   "source": [
    "# save to file\n",
    "with open('citations.txt', 'w') as f:\n",
    "    for citation in citations:\n",
    "        f.write(citation + \"\\n\\n\")"
   ]
  }
 ],
 "metadata": {
  "kernelspec": {
   "display_name": "base",
   "language": "python",
   "name": "python3"
  },
  "language_info": {
   "codemirror_mode": {
    "name": "ipython",
    "version": 3
   },
   "file_extension": ".py",
   "mimetype": "text/x-python",
   "name": "python",
   "nbconvert_exporter": "python",
   "pygments_lexer": "ipython3",
   "version": "3.11.6"
  }
 },
 "nbformat": 4,
 "nbformat_minor": 2
}
